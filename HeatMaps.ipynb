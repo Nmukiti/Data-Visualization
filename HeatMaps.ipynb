{
 "cells": [
  {
   "cell_type": "code",
   "execution_count": 1,
   "metadata": {},
   "outputs": [
    {
     "data": {
      "image/png": "[encoded data removed]",
      "text/plain": [
       "<Figure size 432x288 with 1 Axes>"
      ]
     },
     "metadata": {
      "needs_background": "light"
     },
     "output_type": "display_data"
    }
   ],
   "source": [
    "#A heatmap contains values representing various shades of the same colour for each value to be plotted. \n",
    "#Usually the darker shades of the chart represent higher values than the lighter shade. \n",
    "#For a very different value a completely different colour can also be used.\n",
    "\n",
    "#The below example is a two-dimensional plot of values which are mapped to the indices and columns of the chart.\n",
    "\n",
    "from pandas import DataFrame\n",
    "import matplotlib.pyplot as plt\n",
    "\n",
    "data=[{2,3,4,1},{6,3,5,2},{6,3,5,4},{3,7,5,4},{2,8,1,5}]\n",
    "Index= ['I1', 'I2','I3','I4','I5']\n",
    "Cols = ['C1', 'C2', 'C3','C4']\n",
    "df = DataFrame(data, index=Index, columns=Cols)\n",
    "\n",
    "plt.pcolor(df)\n",
    "plt.show()"
   ]
  }
 ],
 "metadata": {
  "kernelspec": {
   "display_name": "Python 3",
   "language": "python",
   "name": "python3"
  },
  "language_info": {
   "codemirror_mode": {
    "name": "ipython",
    "version": 3
   },
   "file_extension": ".py",
   "mimetype": "text/x-python",
   "name": "python",
   "nbconvert_exporter": "python",
   "pygments_lexer": "ipython3",
   "version": "3.8.5"
  }
 },
 "nbformat": 4,
 "nbformat_minor": 4
}
