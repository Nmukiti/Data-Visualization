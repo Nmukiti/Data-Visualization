{
 "cells": [
  {
   "cell_type": "code",
   "execution_count": 3,
   "metadata": {},
   "outputs": [
    {
     "name": "stdout",
     "output_type": "stream",
     "text": [
      "[2 1 2 1]\n"
     ]
    }
   ],
   "source": [
    "import numpy as np\n",
    "G_dense = np.array([ [0, 2, 1],\n",
    "                     [2, 0, 0],\n",
    "                     [1, 0, 0] ])\n",
    "                     \n",
    "G_masked = np.ma.masked_values(G_dense, 0)\n",
    "from scipy.sparse import csr_matrix\n",
    "\n",
    "G_sparse = csr_matrix(G_dense)\n",
    "print (G_sparse.data)"
   ]
  },
  {
   "cell_type": "code",
   "execution_count": 6,
   "metadata": {},
   "outputs": [
    {
     "ename": "ValueError",
     "evalue": "graph should have two dimensions",
     "output_type": "error",
     "traceback": [
      "\u001b[1;31m---------------------------------------------------------------------------\u001b[0m",
      "\u001b[1;31mValueError\u001b[0m                                Traceback (most recent call last)",
      "\u001b[1;32m<ipython-input-6-98653dd01e03>\u001b[0m in \u001b[0;36m<module>\u001b[1;34m\u001b[0m\n\u001b[0;32m      6\u001b[0m    \u001b[1;33m[\u001b[0m\u001b[1;36m0\u001b[0m\u001b[1;33m,\u001b[0m \u001b[0mnp\u001b[0m\u001b[1;33m.\u001b[0m\u001b[0minf\u001b[0m\u001b[1;33m,\u001b[0m \u001b[0mnp\u001b[0m\u001b[1;33m.\u001b[0m\u001b[0minf\u001b[0m\u001b[1;33m]\u001b[0m\u001b[1;33m\u001b[0m\u001b[1;33m\u001b[0m\u001b[0m\n\u001b[0;32m      7\u001b[0m ])\n\u001b[1;32m----> 8\u001b[1;33m \u001b[0mG2_sparse\u001b[0m \u001b[1;33m=\u001b[0m \u001b[0mcsgraph_from_dense\u001b[0m\u001b[1;33m(\u001b[0m\u001b[0mG2_data\u001b[0m\u001b[1;33m,\u001b[0m \u001b[0mnull_value\u001b[0m\u001b[1;33m=\u001b[0m\u001b[0mnp\u001b[0m\u001b[1;33m.\u001b[0m\u001b[0minf\u001b[0m\u001b[1;33m)\u001b[0m\u001b[1;33m\u001b[0m\u001b[1;33m\u001b[0m\u001b[0m\n\u001b[0m\u001b[0;32m      9\u001b[0m \u001b[0mprint\u001b[0m \u001b[1;33m(\u001b[0m\u001b[0mG2_sparse\u001b[0m\u001b[1;33m.\u001b[0m\u001b[0mdata\u001b[0m\u001b[1;33m)\u001b[0m\u001b[1;33m\u001b[0m\u001b[1;33m\u001b[0m\u001b[0m\n",
      "\u001b[1;32m_tools.pyx\u001b[0m in \u001b[0;36mscipy.sparse.csgraph._tools.csgraph_from_dense\u001b[1;34m()\u001b[0m\n",
      "\u001b[1;32m_tools.pyx\u001b[0m in \u001b[0;36mscipy.sparse.csgraph._tools.csgraph_masked_from_dense\u001b[1;34m()\u001b[0m\n",
      "\u001b[1;31mValueError\u001b[0m: graph should have two dimensions"
     ]
    }
   ],
   "source": [
    "from scipy.sparse.csgraph import csgraph_from_dense\n",
    "G2_data = np.array\n",
    "([\n",
    "   [np.inf, 2, 0 ],\n",
    "   [2, np.inf, np.inf],\n",
    "   [0, np.inf, np.inf]\n",
    "])\n",
    "G2_sparse = csgraph_from_dense(G2_data, null_value=np.inf)\n",
    "print (G2_sparse.data)"
   ]
  }
 ],
 "metadata": {
  "kernelspec": {
   "display_name": "Python 3",
   "language": "python",
   "name": "python3"
  },
  "language_info": {
   "codemirror_mode": {
    "name": "ipython",
    "version": 3
   },
   "file_extension": ".py",
   "mimetype": "text/x-python",
   "name": "python",
   "nbconvert_exporter": "python",
   "pygments_lexer": "ipython3",
   "version": "3.8.5"
  }
 },
 "nbformat": 4,
 "nbformat_minor": 4
}
